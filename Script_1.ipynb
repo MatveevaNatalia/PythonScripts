{
 "cells": [
  {
   "cell_type": "code",
   "execution_count": null,
   "metadata": {
    "collapsed": true
   },
   "outputs": [],
   "source": [
    "# This script contains typical example of the post-treatment of the results of\n",
    "# my numerical simulations. It includes the regrouping of the data from different files into one file,\n",
    "# fitting the obtained results, calculating the root mean square error of the fit, and, finally,\n",
    "#the visualization of the data."
   ]
  },
  {
   "cell_type": "code",
   "execution_count": 1,
   "metadata": {
    "collapsed": true
   },
   "outputs": [],
   "source": [
    "import numpy as np"
   ]
  },
  {
   "cell_type": "code",
   "execution_count": 2,
   "metadata": {
    "collapsed": true
   },
   "outputs": [],
   "source": [
    "import os, subprocess"
   ]
  },
  {
   "cell_type": "code",
   "execution_count": 6,
   "metadata": {
    "collapsed": false
   },
   "outputs": [
    {
     "name": "stdout",
     "output_type": "stream",
     "text": [
      "Current working directory /home6/matveeva/Dens_cor/RPA_dens_matr_v3/N_13_13_rs_5_new_rew\n"
     ]
    }
   ],
   "source": [
    "retval = os.getcwd()\n",
    "print \"Current working directory %s\" % retval\n"
   ]
  },
  {
   "cell_type": "code",
   "execution_count": 3,
   "metadata": {
    "collapsed": true
   },
   "outputs": [],
   "source": [
    "if not os.path.exists('Data_F'):\n",
    "    os.mkdir('Data_F')"
   ]
  },
  {
   "cell_type": "code",
   "execution_count": null,
   "metadata": {
    "collapsed": true
   },
   "outputs": [],
   "source": [
    "#---------------------------------------------------------------------#\n",
    "# Regroupping the simulation results from different files in one file\n",
    "#---------------------------------------------------------------------#"
   ]
  },
  {
   "cell_type": "code",
   "execution_count": 14,
   "metadata": {
    "collapsed": false
   },
   "outputs": [],
   "source": [
    "#list_beta = [40.0, 55.0, 70.0]\n",
    "list_beta = [0.25, 0.5,1.0, 2.0, 3.0, 4.0, 6.0, 8.0, 11.0, 14.0, 20.0, 25.0, 30.0, 40.0, 55.0, 70.0] \n",
    "\n",
    "name_read_1='beta_'\n",
    "name_read_2='/Measur/Sk_av_1.dat' \n",
    "name_write_1='Data_F_1/F_'\n",
    "name_write_2='.txt'\n",
    "num_k=31\n",
    "count = 0\n",
    "for x in list_beta:\n",
    "        name_read_3=name_read_1+str(x)+name_read_2\n",
    "        f = open(name_read_3, \"r\")\n",
    "        f2=open('Data_F_1/list_k.txt',\"w\")\n",
    "        f3=open('Data_F_1/Sk_av.dat',\"r\")\n",
    "        for i in range(num_k):\n",
    "            l3=f3.readline()\n",
    "            b3=l3.split()\n",
    "            l=f.readline()\n",
    "            b=l.split()\n",
    "            f2.write(\"{0} {1}\\n\".format(i, b[0]))\n",
    "            a=round(float(b[0]),3)\n",
    "            name_write_3=name_write_1+str(a)+name_write_2\n",
    "            f1=open(name_write_3, \"a\")\n",
    "            if count == 0:\n",
    "                f1.write(\"{0} {1} {2}\\n\".format(0.0, b3[1], b3[2]))\n",
    "            f1.write(\"{0} {1} {2}\\n\".format(x,b[1],b[2]))\n",
    "            f1.close()\n",
    "            \n",
    "        f.close()     \n",
    "        f2.close()\n",
    "        f3.close()\n",
    "        count += 1"
   ]
  },
  {
   "cell_type": "code",
   "execution_count": 15,
   "metadata": {
    "collapsed": true
   },
   "outputs": [
    {
     "name": "stdout",
     "output_type": "stream",
     "text": [
      "F_0.695.txt  F_2.781.txt  F_4.054.txt  F_5.061.txt  VIM_commands.txt\r\n",
      "F_0.983.txt  F_2.866.txt  F_4.171.txt  F_5.295.txt  fit.log\r\n",
      "F_1.39.txt   F_2.95.txt   F_4.397.txt  F_5.43.txt   ideal_13_13_rs_5.txt\r\n",
      "F_1.555.txt  F_3.109.txt  F_4.452.txt  F_5.562.txt  ideal_correction.txt\r\n",
      "F_1.966.txt  F_3.476.txt  F_4.664.txt  F_5.605.txt  list_k.txt\r\n",
      "F_2.086.txt  F_3.545.txt  F_4.867.txt  F_5.733.txt  list_k_1.txt\r\n",
      "F_2.198.txt  F_3.744.txt  F_4.916.txt  F_5.899.txt\r\n",
      "F_2.507.txt  F_3.933.txt  F_5.013.txt  Sk_av.dat\r\n"
     ]
    }
   ],
   "source": [
    "!ls Data_F_1"
   ]
  },
  {
   "cell_type": "code",
   "execution_count": 20,
   "metadata": {
    "collapsed": true
   },
   "outputs": [
    {
     "name": "stdout",
     "output_type": "stream",
     "text": [
      "0.0 0.877999 0.00113924\r\n",
      "0.25 0.810788 0.00394954\r\n",
      "0.5 0.761873 0.00256537\r\n",
      "1.0 0.681943 0.00216739\r\n",
      "2.0 0.541069 0.00200824\r\n",
      "3.0 0.426752 0.00323221\r\n",
      "4.0 0.347066 0.003446\r\n",
      "6.0 0.231546 0.00303918\r\n",
      "8.0 0.180261 0.00523698\r\n",
      "11.0 0.131905 0.00548687\r\n"
     ]
    }
   ],
   "source": [
    "!head 'Data_F_1/F_2.866.txt'"
   ]
  },
  {
   "cell_type": "code",
   "execution_count": 22,
   "metadata": {
    "collapsed": true
   },
   "outputs": [
    {
     "name": "stdout",
     "output_type": "stream",
     "text": [
      "0 0.695214\r\n",
      "1 0.98318\r\n",
      "2 1.39043\r\n",
      "3 1.55454\r\n",
      "4 1.96636\r\n",
      "5 2.08564\r\n",
      "6 2.19846\r\n",
      "7 2.50663\r\n",
      "8 2.78085\r\n",
      "9 2.86644\r\n",
      "10 2.94954\r\n",
      "11 3.10909\r\n",
      "12 3.47607\r\n",
      "13 3.54491\r\n",
      "14 3.74384\r\n",
      "15 3.93272\r\n",
      "16 4.05376\r\n",
      "17 4.17128\r\n",
      "18 4.39692\r\n",
      "19 4.45154\r\n",
      "20 4.66363\r\n",
      "21 4.8665\r\n",
      "22 4.9159\r\n",
      "23 5.01326\r\n",
      "24 5.06123\r\n",
      "25 5.29459\r\n",
      "26 5.42979\r\n",
      "27 5.56171\r\n",
      "28 5.60499\r\n",
      "29 5.73288\r\n",
      "30 5.89908\r\n"
     ]
    }
   ],
   "source": [
    "!cat 'Data_F_1/list_k.txt'"
   ]
  },
  {
   "cell_type": "code",
   "execution_count": 3,
   "metadata": {
    "collapsed": false
   },
   "outputs": [
    {
     "name": "stdout",
     "output_type": "stream",
     "text": [
      "Populating the interactive namespace from numpy and matplotlib\n"
     ]
    }
   ],
   "source": [
    "%pylab inline"
   ]
  },
  {
   "cell_type": "code",
   "execution_count": 6,
   "metadata": {
    "collapsed": false
   },
   "outputs": [
    {
     "data": {
      "text/plain": [
       "<matplotlib.legend.Legend at 0x525d650>"
      ]
     },
     "execution_count": 6,
     "metadata": {},
     "output_type": "execute_result"
    },
    {
     "data": {
      "image/png": "[encoded data removed]",
      "text/plain": [
       "<matplotlib.figure.Figure at 0x4c51990>"
      ]
     },
     "metadata": {},
     "output_type": "display_data"
    }
   ],
   "source": [
    "pylab.rcParams['figure.figsize'] = (9.0, 5.5)\n",
    "num_k_min=1\n",
    "num_k_max=2\n",
    "f=open('Data_F_1/list_k.txt',\"r\")\n",
    "for i in range(0, 31):\n",
    "    l=f.readline()\n",
    "    b=l.split()   \n",
    "    a=round(float(b[1]),3)  \n",
    "    #print i, a\n",
    "    #name = 'Data_F_long/F_'+str(a)+'.txt'\n",
    "    name1 = 'Data_F_1/F_'+str(a)+'.txt'\n",
    "    #data = pylab.loadtxt(name)\n",
    "    data1 = pylab.loadtxt(name1)\n",
    "    #name_legend = '$k/k_f=$'+str(round(a/1.41,3))+', $n_{bl} = 1000 for \\\\beta=8, 11, 14, 20, 30$'\n",
    "    #name_legend_1 = '$k/kf=$'+str(round(a/1.41,3))+', reweight'\n",
    "    name_legend_1 = '$k/k_f=$'+str(round(a/1.41,3))\n",
    "    if( i >= num_k_min and i<num_k_max):\n",
    "        #pylab.plot( data[:,0], data[:,1], '+', ms = 8, linewidth=2.5, label=name_legend)\n",
    "        plt.errorbar(data1[:,0], data1[:,1], yerr= data1[:,2],  fmt='o', ms = 6, linewidth=2.0, label=name_legend_1)\n",
    "        #plt.errorbar(data[:,0], data[:,1], yerr= data[:,2], color='red', fmt='o', ms = 6, linewidth=2.0, label=name_legend)\n",
    "        plt.hold(True)\n",
    "    #print name\n",
    "f.close()\n",
    "plt.tick_params(labelsize=18)\n",
    "plt.xlabel('$\\\\tau$', fontsize=18)\n",
    "plt.ylabel('$F_{\\\\tau}$', fontsize=18)\n",
    "#pylab.ylim([0,0.05])\n",
    "pylab.legend(loc='upper right')"
   ]
  },
  {
   "cell_type": "code",
   "execution_count": null,
   "metadata": {
    "collapsed": true
   },
   "outputs": [],
   "source": [
    "#-------------------------------------------------------------------------#\n",
    "# Statistical part\n",
    "#-------------------------------------------------------------------------#"
   ]
  },
  {
   "cell_type": "code",
   "execution_count": 7,
   "metadata": {
    "collapsed": false
   },
   "outputs": [],
   "source": [
    "from scipy.optimize import curve_fit"
   ]
  },
  {
   "cell_type": "code",
   "execution_count": null,
   "metadata": {
    "collapsed": true
   },
   "outputs": [],
   "source": [
    "# Defining the functions to fit the simulation results and to calculate the root mean square error of the fits"
   ]
  },
  {
   "cell_type": "code",
   "execution_count": 8,
   "metadata": {
    "collapsed": false
   },
   "outputs": [],
   "source": [
    "def fun_csi(x, *par):\n",
    "    s=0    \n",
    "    for i in range(0,len(x)):\n",
    "        #print \"{0} {1} {2} {3}\".format(x[i,0], x[i,1], func(x[:,0], *par)[i], x[i,2])\n",
    "        temp = (x[i,1]-func(x[:,0], *par)[i]) / x[i,2]\n",
    "        s=s + temp*temp\n",
    "    ndf = len(data)-len(par)\n",
    "    #print s/ndf #hopefully gives us csi^2 parameter   \n",
    "    return s/ndf \n",
    "\n",
    "def fun_csi_1(x, *par):\n",
    "    s=0    \n",
    "    for i in range(0,len(x)):\n",
    "        #print \"{0} {1} {2} {3}\".format(x[i,0], x[i,1], func(x[:,0], *par)[i], x[i,2])\n",
    "        temp = (x[i,1]-func1(x[:,0], *par)[i]) / x[i,2]\n",
    "        s=s + temp*temp\n",
    "    ndf = len(data)-len(par)\n",
    "    #print s/ndf #hopefully gives us csi^2 parameter   \n",
    "    return s/ndf \n",
    "\n",
    "def func(x, a, b, c, d):\n",
    "    return a * np.exp(-b * x) + c * np.exp(-d * x)\n",
    "def func1(x, a, b):\n",
    "    return a * np.exp(-b * x)"
   ]
  },
  {
   "cell_type": "code",
   "execution_count": 51,
   "metadata": {
    "collapsed": false
   },
   "outputs": [],
   "source": [
    "os.remove('Data_F_long/csi_0.txt')"
   ]
  },
  {
   "cell_type": "code",
   "execution_count": 38,
   "metadata": {
    "collapsed": false
   },
   "outputs": [
    {
     "name": "stdout",
     "output_type": "stream",
     "text": [
      "F_0.695.txt  F_2.781.txt  F_4.054.txt  F_5.061.txt  VIM_commands.txt\r\n",
      "F_0.983.txt  F_2.866.txt  F_4.171.txt  F_5.295.txt  csi_0.txt\r\n",
      "F_1.39.txt   F_2.95.txt   F_4.397.txt  F_5.43.txt   csi_0_1.txt\r\n",
      "F_1.555.txt  F_3.109.txt  F_4.452.txt  F_5.562.txt  fit.log\r\n",
      "F_1.966.txt  F_3.476.txt  F_4.664.txt  F_5.605.txt  ideal_13_13_rs_5.txt\r\n",
      "F_2.086.txt  F_3.545.txt  F_4.867.txt  F_5.733.txt  ideal_correction.txt\r\n",
      "F_2.198.txt  F_3.744.txt  F_4.916.txt  F_5.899.txt  list_k.txt\r\n",
      "F_2.507.txt  F_3.933.txt  F_5.013.txt  Sk_av.dat    list_k_1.txt\r\n"
     ]
    }
   ],
   "source": [
    "!ls 'Data_F'"
   ]
  },
  {
   "cell_type": "code",
   "execution_count": null,
   "metadata": {
    "collapsed": true
   },
   "outputs": [],
   "source": [
    "# Fitting and plotting the data, obtaining another physical characteristic from the coefficients of the fit"
   ]
  },
  {
   "cell_type": "code",
   "execution_count": 20,
   "metadata": {
    "collapsed": false,
    "scrolled": true
   },
   "outputs": [
    {
     "name": "stdout",
     "output_type": "stream",
     "text": [
      "------------------------------------------------------------\n",
      "0 k/k_F=0.491 k/k_F = 0.491439212925\n",
      "**** initial parameters ****\n",
      "0.08975115 0.1 0.00997235 0.1\n",
      "0.08975115 0.1\n",
      "***  ***  ***  ***  ***  ***\n",
      "a=0.0188619331086 b=0.030273418649 c=0.0810476646183 d=0.186255116507\n",
      "0.00144240068807 0.00185165824689 0.00140280628938 0.00383270884296\n",
      "a1=0.0985785950985 b1=0.138852231778\n",
      "0.00148170494835 0.00671798688113\n",
      "csi=0.916233350466 csi_1=55.4647998424\n",
      "I = 0.336834223614 error= 0.0197744434191\n",
      "------------------------------------------------------------\n",
      "1 k/k_F=0.695 k/k_F = 0.695085965906\n",
      "**** initial parameters ****\n",
      "0.0188619331086 0.030273418649 0.0810476646183 0.186255116507\n",
      "0.0985785950985 0.138852231778\n",
      "***  ***  ***  ***  ***  ***\n",
      "a=0.0266820176317 b=0.0794864690904 c=0.124775214606 d=0.204036718649\n",
      "0.0146458867176 0.0211347054678 0.0145914272008 0.0122008469597\n",
      "a1=0.151062156717 b1=0.174938186491\n",
      "0.000455786187807 0.0019087003971\n",
      "csi=1.13319631607 csi_1=3.91889554688\n",
      "I = 0.30150730456 error= 0.0700051244978\n",
      "------------------------------------------------------------\n",
      "2 k/k_F=0.983 k/k_F = 0.982878425849\n",
      "**** initial parameters ****\n",
      "0.0266820176317 0.0794864690904 0.124775214606 0.204036718649\n",
      "0.151062156717 0.174938186491\n",
      "***  ***  ***  ***  ***  ***\n",
      "a=0.043227696663 b=0.0631741512586 c=0.237223771571 d=0.23330488143\n",
      "0.00764986788224 0.00728142110066 0.00756405546595 0.00579272287797\n",
      "a1=0.279210956808 b1=0.195849725697\n",
      "0.00128484917844 0.00279370790714\n",
      "csi=0.78645380602 csi_1=8.85443185159\n",
      "I = 0.541464118384 error= 0.0478226423779\n",
      "------------------------------------------------------------\n",
      "3 k/k_F=1.1 k/k_F = 1.09955104475\n",
      "**** initial parameters ****\n",
      "0.043227696663 0.0631741512586 0.237223771571 0.23330488143\n",
      "0.279210956808 0.195849725697\n",
      "***  ***  ***  ***  ***  ***\n",
      "a=0.0355662371177 b=0.0276767844461 c=0.307353654626 d=0.232875617313\n",
      "0.0033194226057 0.00234171076509 0.00325737537814 0.00329716427531\n",
      "a1=0.341346312815 b1=0.198458298828\n",
      "0.00280046975285 0.00562572634207\n",
      "csi=0.861273049497 csi_1=29.9967749501\n",
      "I = 0.829157672331 error= 0.0520619239492\n",
      "------------------------------------------------------------\n",
      "4 k/k_F=1.39 k/k_F = 1.39017193181\n",
      "**** initial parameters ****\n",
      "0.0355662371177 0.0276767844461 0.307353654626 0.232875617313\n",
      "0.341346312815 0.198458298828\n",
      "***  ***  ***  ***  ***  ***\n",
      "a=0.021360708046 b=0.0348666294834 c=0.439557142809 d=0.224685066085\n",
      "0.0215387436418 0.0281252389406 0.0212467901013 0.0124525535201\n",
      "a1=0.460339006751 b1=0.211019500259\n",
      "0.00218005415977 0.00372048009412\n",
      "csi=5.80506824984 csi_1=6.84014047859\n",
      "I = 0.81772728973 error= 0.255943762129\n",
      "------------------------------------------------------------\n",
      "5 k/k_F=1.475 k/k_F = 1.47502474556\n",
      "**** initial parameters ****\n",
      "0.021360708046 0.0348666294834 0.439557142809 0.224685066085\n",
      "0.460339006751 0.211019500259\n",
      "***  ***  ***  ***  ***  ***\n",
      "a=0.0512528613633 b=0.0426512866182 c=0.477717212867 d=0.240003724058\n",
      "0.0243822300727 0.0150765703664 0.023979822338 0.0131836470566\n",
      "a1=0.527217323717 b1=0.210861255089\n",
      "0.003317006043 0.00437332873412\n",
      "csi=9.75681851378 csi_1=19.3153651451\n",
      "I = 1.01608641157 error= 0.231551513223\n",
      "------------------------------------------------------------\n",
      "6 k/k_F=1.554 k/k_F = 1.55422070505\n",
      "**** initial parameters ****\n",
      "0.0512528613633 0.0426512866182 0.477717212867 0.240003724058\n",
      "0.527217323717 0.210861255089\n",
      "***  ***  ***  ***  ***  ***\n",
      "a=0.0418269850642 b=0.052319463366 c=0.517871517136 d=0.240866211768\n",
      "0.0336973185239 0.0314113513295 0.0333417178336 0.014209292231\n",
      "a1=0.558696748499 b1=0.219907870957\n",
      "0.00236006638615 0.00343221823282\n",
      "csi=8.04931117991 csi_1=10.8421456591\n",
      "I = 0.938852357784 error= 0.262571270323\n",
      "------------------------------------------------------------\n",
      "7 k/k_F=1.773 k/k_F = 1.77271670043\n",
      "**** initial parameters ****\n",
      "0.0418269850642 0.052319463366 0.517871517136 0.240866211768\n",
      "0.558696748499 0.219907870957\n",
      "***  ***  ***  ***  ***  ***\n",
      "a=0.148676819989 b=0.0305658113715 c=0.624261041896 d=0.279994374335\n",
      "0.0132589247549 0.0025225154998 0.0130673779752 0.00847937586615\n",
      "a1=0.76769197378 b1=0.202568574549\n",
      "0.00929538412069 0.00948815740513\n",
      "csi=3.36913831805 csi_1=84.5710741003\n",
      "I = 2.25799570667 error= 0.189934536386\n",
      "------------------------------------------------------------\n",
      "8 k/k_F=1.966 k/k_F = 1.96646395848\n",
      "**** initial parameters ****\n",
      "0.148676819989 0.0305658113715 0.624261041896 0.279994374335\n",
      "0.76769197378 0.202568574549\n",
      "***  ***  ***  ***  ***  ***\n",
      "a=0.0805273305024 b=0.0879432718717 c=0.688099070938 d=0.294307113693\n",
      "0.0310709881555 0.0235832221183 0.0309421374415 0.00857159354702\n",
      "a1=0.767262112683 b1=0.2622095829\n",
      "0.00185676810378 0.0023697067506\n",
      "csi=0.870161888075 csi_1=4.40671586797\n",
      "I = 1.03568624293 error= 0.142640988752\n",
      "------------------------------------------------------------\n",
      "9 k/k_F=2.027 k/k_F = 2.02656803488\n",
      "**** initial parameters ****\n",
      "0.0805273305024 0.0879432718717 0.688099070938 0.294307113693\n",
      "0.767262112683 0.2622095829\n",
      "***  ***  ***  ***  ***  ***\n",
      "a=0.119423552346 b=0.0215599707726 c=0.756548898393 d=0.291289558509\n",
      "0.0106188152953 0.00212860292425 0.0104658085534 0.00636744042226\n",
      "a1=0.871041504355 b1=0.230148053306\n",
      "0.00991293887584 0.0109278489687\n",
      "csi=3.13206264594 csi_1=95.4356527854\n",
      "I = 2.58988806935 error= 0.235240971206\n",
      "------------------------------------------------------------\n",
      "10 k/k_F=2.086 k/k_F = 2.0859650045\n",
      "**** initial parameters ****\n",
      "0.119423552346 0.0215599707726 0.756548898393 0.291289558509\n",
      "0.871041504355 0.230148053306\n",
      "***  ***  ***  ***  ***  ***\n",
      "a=0.322167431382 b=0.117599901358 c=0.571185582191 d=0.362788893936\n",
      "0.0773893452936 0.0181530796834 0.0771491781101 0.0291709873883\n",
      "a1=0.889317602488 b1=0.245035469765\n",
      "0.00462113994328 0.00487433907129\n",
      "csi=2.26207295072 csi_1=19.2642473782\n",
      "I = 1.37317321907 error= 0.261157242571\n",
      "------------------------------------------------------------\n",
      "11 k/k_F=2.198 k/k_F = 2.19839498271\n",
      "**** initial parameters ****\n",
      "0.322167431382 0.117599901358 0.571185582191 0.362788893936\n",
      "0.889317602488 0.245035469765\n",
      "***  ***  ***  ***  ***  ***\n",
      "a=0.201154670676 b=0.0912385445044 c=0.729180834536 d=0.342037900399\n",
      "0.0376523933064 0.0130960242581 0.0374916200835 0.0124918931015\n",
      "a1=0.927437758382 b1=0.265362682854\n",
      "0.00385432709407 0.00461740189952\n",
      "csi=0.67192467323 csi_1=8.52356801897\n",
      "I = 1.38037723336 error= 0.1709791447\n",
      "------------------------------------------------------------\n",
      "12 k/k_F=2.458 k/k_F = 2.4579031714\n",
      "**** initial parameters ****\n",
      "0.201154670676 0.0912385445044 0.729180834536 0.342037900399\n",
      "0.927437758382 0.265362682854\n",
      "***  ***  ***  ***  ***  ***\n",
      "a=0.212476467605 b=0.128425277109 c=0.772647175347 d=0.391400982748\n",
      "0.104236626408 0.0404901078267 0.104021293288 0.0301406036204\n",
      "a1=0.982999948369 b1=0.311361595892\n",
      "0.00328086381079 0.00467999902581\n",
      "csi=5.48350036932 csi_1=25.5241884934\n",
      "I = 1.15499720136 error= 0.322203307615\n",
      "------------------------------------------------------------\n",
      "13 k/k_F=2.507 k/k_F = 2.50669353931\n",
      "**** initial parameters ****\n",
      "0.212476467605 0.128425277109 0.772647175347 0.391400982748\n",
      "0.982999948369 0.311361595892\n",
      "***  ***  ***  ***  ***  ***\n",
      "a=0.254400617292 b=0.139595715911 c=0.74233802194 d=0.417797975101\n",
      "0.118115715111 0.040718778069 0.117775271697 0.0373527957464\n",
      "a1=0.9933903875 b1=0.319877908925\n",
      "0.00409994380996 0.00521116525615\n",
      "csi=3.33496041085 csi_1=15.6925314121\n",
      "I = 1.14565997006 error= 0.334332569253\n",
      "------------------------------------------------------------\n",
      "14 k/k_F=2.647 k/k_F = 2.64740778876\n",
      "**** initial parameters ****\n",
      "0.254400617292 0.139595715911 0.74233802194 0.417797975101\n",
      "0.9933903875 0.319877908925\n",
      "***  ***  ***  ***  ***  ***\n",
      "a=0.809715856878 b=0.299513433681 c=0.196890368934 d=0.768954695429\n",
      "0.14931016388 0.0281315523165 0.149031253245 0.291383509463\n",
      "a1=1.00368666469 b1=0.356654366466\n",
      "0.00310262063898 0.00425963598513\n",
      "csi=3.59058452272 csi_1=10.8563915933\n",
      "I = 0.942033939293 error= 0.190975889327\n",
      "------------------------------------------------------------\n",
      "15 k/k_F=2.781 k/k_F = 2.78105097041\n",
      "**** initial parameters ****\n",
      "0.809715856878 0.299513433681 0.196890368934 0.768954695429\n",
      "1.00368666469 0.356654366466\n",
      "***  ***  ***  ***  ***  ***\n",
      "a=0.898335438452 b=0.348075467398 c=0.118147600254 d=1.11928722398\n",
      "0.0647396686344 0.0162293203715 0.0645521472881 0.389820795953\n",
      "a1=1.01261615159 b1=0.39076846497\n",
      "0.00318252061728 0.00451811039325\n",
      "csi=3.06301338217 csi_1=11.5427078614\n",
      "I = 0.85511407377 error= 0.0737982105814\n",
      "------------------------------------------------------------\n",
      "16 k/k_F=2.867 k/k_F = 2.86661089093\n",
      "**** initial parameters ****\n",
      "0.898335438452 0.348075467398 0.118147600254 1.11928722398\n",
      "1.01261615159 0.39076846497\n",
      "***  ***  ***  ***  ***  ***\n",
      "a=0.980395780508 b=0.39763074706 c=0.0421082420298 d=3.32630358228\n",
      "0.0125420046994 0.00563401741947 0.0125810318861 1.62973689816\n",
      "a1=1.01953941781 b1=0.417635682384\n",
      "0.00265680278146 0.00420761524092\n",
      "csi=2.93631245594 csi_1=10.5781569635\n",
      "I = 0.788852321399 error= 0.0151594111429\n",
      "------------------------------------------------------------\n",
      "17 k/k_F=2.949 k/k_F = 2.94934238433\n",
      "**** initial parameters ****\n",
      "0.980395780508 0.39763074706 0.0421082420298 3.32630358228\n",
      "1.01953941781 0.417635682384\n",
      "***  ***  ***  ***  ***  ***\n",
      "a=0.984893830586 b=0.41793795012 c=0.0450679348443 d=4.50743031254\n",
      "0.0127668545826 0.00677208067367 0.0128791718928 2.51047503301\n",
      "a1=1.02630969735 b1=0.441194682835\n",
      "0.00324947312032 0.00536500130701\n",
      "csi=5.10404513287 csi_1=15.9872158753\n",
      "I = 0.753297452132 error= 0.015692297412\n",
      "------------------------------------------------------------\n",
      "18 k/k_F=3.109 k/k_F = 3.10914851688\n",
      "**** initial parameters ****\n",
      "0.984893830586 0.41793795012 0.0450679348443 4.50743031254\n",
      "1.02630969735 0.441194682835\n",
      "***  ***  ***  ***  ***  ***\n",
      "a=0.990359346054 b=0.467792942168 c=0.0368829376543 d=6.7379756166\n",
      "0.00731459296676 0.00429637114558 0.00741975316798 3.95606061845\n",
      "a1=1.02424010117 b1=0.487486528234\n",
      "0.00269459022857 0.00482153683797\n",
      "csi=2.67759525666 csi_1=12.8332940836\n",
      "I = 0.675632788633 error= 0.00801553554938\n",
      "------------------------------------------------------------\n",
      "19 k/k_F=3.148 k/k_F = 3.14803938984\n",
      "**** initial parameters ****\n",
      "0.990359346054 0.467792942168 0.0368829376543 6.7379756166\n",
      "1.02424010117 0.487486528234\n",
      "***  ***  ***  ***  ***  ***\n",
      "a=0.987021719868 b=0.48523431299 c=0.0391654835498 d=6.40110201773\n",
      "0.00674823772959 0.00396899889696 0.00683465070646 3.29549863708\n",
      "a1=1.02310837241 b1=0.506749234583\n",
      "0.00274960355029 0.00488219749135\n",
      "csi=2.09932616422 csi_1=13.3664511186\n",
      "I = 0.649426067526 error= 0.00698325615672\n",
      "------------------------------------------------------------\n",
      "20 k/k_F=3.298 k/k_F = 3.29794602745\n",
      "**** initial parameters ****\n",
      "0.987021719868 0.48523431299 0.0391654835498 6.40110201773\n",
      "1.02310837241 0.506749234583\n",
      "***  ***  ***  ***  ***  ***\n",
      "a=0.973798132099 b=0.52923048199 c=0.0503243233212 d=3.4959165989\n",
      "0.013198742604 0.00666156087126 0.0132177866915 1.33266404102\n",
      "a1=1.02093283647 b1=0.558683991342\n",
      "0.00282306314852 0.00576838368059\n",
      "csi=2.50431411458 csi_1=13.434889521\n",
      "I = 0.590280763994 error= 0.0110394974966\n",
      "------------------------------------------------------------\n",
      "21 k/k_F=3.441 k/k_F = 3.44148870403\n",
      "**** initial parameters ****\n",
      "0.973798132099 0.52923048199 0.0503243233212 3.4959165989\n",
      "1.02093283647 0.558683991342\n",
      "***  ***  ***  ***  ***  ***\n",
      "a=0.978421338035 b=0.582531370699 c=0.0447477898475 d=5.1988219309\n",
      "0.00860529334482 0.00538464604939 0.00865192468942 2.11931657896\n",
      "a1=1.02059119313 b1=0.612371430929\n",
      "0.00259581502084 0.00613258873627\n",
      "csi=2.27798966356 csi_1=15.7193131332\n",
      "I = 0.537373972076 error= 0.00693258292905\n",
      "------------------------------------------------------------\n",
      "22 k/k_F=3.476 k/k_F = 3.47613693631\n",
      "**** initial parameters ****\n",
      "0.978421338035 0.582531370699 0.0447477898475 5.1988219309\n",
      "1.02059119313 0.612371430929\n",
      "***  ***  ***  ***  ***  ***\n",
      "a=0.971293446318 b=0.591281674453 c=0.0518619576673 d=4.63658977717\n",
      "0.0086103866381 0.00522689036917 0.00864938231843 1.42584244302\n",
      "a1=1.02051049915 b1=0.624850991573\n",
      "0.00273069854941 0.00643147672705\n",
      "csi=1.98722763158 csi_1=16.7557664649\n",
      "I = 0.526445392563 error= 0.00666354348404\n",
      "------------------------------------------------------------\n",
      "23 k/k_F=3.545 k/k_F = 3.54472629409\n",
      "**** initial parameters ****\n",
      "0.971293446318 0.591281674453 0.0518619576673 4.63658977717\n",
      "1.02051049915 0.624850991573\n",
      "***  ***  ***  ***  ***  ***\n",
      "a=0.96132573939 b=0.610628499715 c=0.0588290258115 d=4.37374469773\n",
      "0.0120228818787 0.00747215407544 0.0120649985653 1.50480412622\n",
      "a1=1.01719896806 b1=0.650157033452\n",
      "0.00307767997285 0.00697225582982\n",
      "csi=3.46507308275 csi_1=21.6269280997\n",
      "I = 0.505403607997 error= 0.0089343881967\n",
      "------------------------------------------------------------\n",
      "24 k/k_F=3.579 k/k_F = 3.57866741959\n",
      "**** initial parameters ****\n",
      "0.96132573939 0.610628499715 0.0588290258115 4.37374469773\n",
      "1.01719896806 0.650157033452\n",
      "***  ***  ***  ***  ***  ***\n",
      "a=0.971130814271 b=0.632389714523 c=0.0489469555431 d=7.52221117638\n",
      "0.00665098879637 0.00494068052594 0.00672962357706 3.03847422009\n",
      "a1=1.01655425108 b1=0.667525949291\n",
      "0.00322660144467 0.00776624497213\n",
      "csi=2.46152576655 csi_1=24.6422238447\n",
      "I = 0.490884595839 error= 0.00515488808102\n",
      "------------------------------------------------------------\n",
      "25 k/k_F=3.744 k/k_F = 3.74413040638\n",
      "**** initial parameters ****\n",
      "0.971130814271 0.632389714523 0.0489469555431 7.52221117638\n",
      "1.01655425108 0.667525949291\n",
      "***  ***  ***  ***  ***  ***\n",
      "a=0.947319262353 b=0.682182439587 c=0.0674257059037 d=4.01607007788\n",
      "0.0131881686171 0.00793058086372 0.013204443143 1.12860593096\n",
      "a1=1.01130694223 b1=0.731681593986\n",
      "0.00334437245307 0.00867879438417\n",
      "csi=2.56481393418 csi_1=25.8999091848\n",
      "I = 0.447368208444 error= 0.00822339802302\n",
      "------------------------------------------------------------\n",
      "26 k/k_F=3.84 k/k_F = 3.83958982184\n",
      "**** initial parameters ****\n",
      "0.947319262353 0.682182439587 0.0674257059037 4.01607007788\n",
      "1.01130694223 0.731681593986\n",
      "***  ***  ***  ***  ***  ***\n",
      "a=0.950915784117 b=0.727040702611 c=0.0617224238683 d=3.90279119313\n",
      "0.01050286695 0.00649623601839 0.0105123117287 0.957071768907\n",
      "a1=1.01087075137 b1=0.773298656655\n",
      "0.00234864360619 0.00670764053917\n",
      "csi=1.72202089781 csi_1=19.3393567529\n",
      "I = 0.421359980731 error= 0.00610259013323\n",
      "------------------------------------------------------------\n",
      "27 k/k_F=3.933 k/k_F = 3.93292791696\n",
      "**** initial parameters ****\n",
      "0.950915784117 0.727040702611 0.0617224238683 3.90279119313\n",
      "1.01087075137 0.773298656655\n",
      "***  ***  ***  ***  ***  ***\n",
      "a=0.941893981963 b=0.76085682576 c=0.0680811195029 d=4.46639200695\n",
      "0.0110624657902 0.00693332865867 0.0110788601891 1.12176421492\n",
      "a1=1.00745352652 b1=0.808690414757\n",
      "0.00294226426084 0.0077553261726\n",
      "csi=1.99887735657 csi_1=25.3583516856\n",
      "I = 0.398900064138 error= 0.00603498427355\n",
      "------------------------------------------------------------\n",
      "28 k/k_F=3.963 k/k_F = 3.96333350855\n",
      "**** initial parameters ****\n",
      "0.941893981963 0.76085682576 0.0680811195029 4.46639200695\n",
      "1.00745352652 0.808690414757\n",
      "***  ***  ***  ***  ***  ***\n",
      "a=0.941098386572 b=0.776409799196 c=0.0678828072963 d=3.8621767698\n",
      "0.00935737294531 0.00584702972813 0.00936216940303 0.694287907572\n",
      "a1=1.00686744772 b1=0.832013939349\n",
      "0.0025764201119 0.0083503675616\n",
      "csi=1.21208699577 csi_1=24.0972936316\n",
      "I = 0.391423073541 error= 0.00497661810446\n",
      "------------------------------------------------------------\n",
      "29 k/k_F=4.054 k/k_F = 4.05384317654\n",
      "**** initial parameters ****\n",
      "0.941098386572 0.776409799196 0.0678828072963 3.8621767698\n",
      "1.00686744772 0.832013939349\n",
      "***  ***  ***  ***  ***  ***\n",
      "a=0.954231771104 b=0.820220879691 c=0.0545253870431 d=8.30710439368\n",
      "0.00587937784884 0.00588700269573 0.0059365851183 2.89638171684\n",
      "a1=1.00579262728 b1=0.877164295489\n",
      "0.00317028927585 0.0102716547898\n",
      "csi=3.47068854532 csi_1=50.9270400227\n",
      "I = 0.372405891186 error= 0.00358507057884\n",
      "------------------------------------------------------------\n",
      "30 k/k_F=4.171 k/k_F = 4.17122290222\n",
      "**** initial parameters ****\n",
      "0.954231771104 0.820220879691 0.0545253870431 8.30710439368\n",
      "1.00579262728 0.877164295489\n",
      "***  ***  ***  ***  ***  ***\n",
      "a=0.938543398217 b=0.857067502986 c=0.0682724035805 d=6.09694922508\n",
      "0.0118013650557 0.0102661363541 0.0118253466754 2.07048897918\n",
      "a1=1.00523370014 b1=0.926773804352\n",
      "0.0025426136619 0.0114379974335\n",
      "csi=1.85694765509 csi_1=16.769774203\n",
      "I = 0.352133929524 error= 0.00620397242687\n"
     ]
    }
   ],
   "source": [
    "pylab.rcParams['figure.figsize'] = (10.0, 6.5)\n",
    "\n",
    "num_k_min=0\n",
    "num_k_max=31\n",
    "f=open('Data_F_1/list_k.txt',\"r\")\n",
    "g = open('Data_F_1/csi_0.txt', 'a')\n",
    "for i in range(0, 31):\n",
    "    l=f.readline()\n",
    "    b_str=l.split()   \n",
    "    a_str=round(float(b_str[1]),3) \n",
    "    #print float(b_str[1]) \n",
    "    #print i, a\n",
    "    name = 'Data_F_1/F_'+str(a_str)+'.txt'\n",
    "    name2 = 'Data_F_1/F_'+str(a_str)+'.txt'\n",
    "    #name3 = 'Data_F_rew_1/F_'+str(a_str)+'.txt'\n",
    "    data = pylab.loadtxt(name)\n",
    "    data2 = pylab.loadtxt(name2)\n",
    "    #data3 = pylab.loadtxt(name3)\n",
    "    name_legend2 = 'k/k_F=' +str(round(a_str/np.sqrt(2),3))\n",
    "    #name_legend3 = '$k/k_f= 1.77, reweighted$'\n",
    "    if( i >= num_k_min and i<num_k_max):\n",
    "        #pylab.plot( data[:,0], data[:,1], marker='o', ms = 8, linewidth=2.5, label=name_legend)\n",
    "        #plt.hold(True)\n",
    "    #print name\n",
    "        print \"------------------------------------------------------------\"\n",
    "        print \"{0} {1} k/k_F = {2}\".format(i, name_legend2, a_str/np.sqrt(2))\n",
    "        \n",
    "        if(num_k_max - num_k_min <3):\n",
    "            #pylab.plot( data[:,0], data[:,1],'o', label = name_legend)\n",
    "            #plt.errorbar(data[:,0], data[:,1], yerr= data[:,2], fmt='o', ms = 7, linewidth=2.0,label=name_legend)\n",
    "            plt.errorbar(data2[:,0], data2[:,1], yerr= data2[:,2], color= 'red', fmt='s', ms = 7, linewidth=2.0,label=name_legend2)\n",
    "            #plt.errorbar(data3[:,0], data3[:,1], yerr= data3[:,2], fmt='o', ms = 7, linewidth=2.0,label=name_legend3)\n",
    "            plt.tick_params(labelsize=18)\n",
    "            plt.xlabel('$\\\\beta$', fontsize=22)\n",
    "            plt.ylabel('$F(\\\\beta)$', fontsize=22)\n",
    "            plt.hold(True)\n",
    "\n",
    "        if (i == num_k_min):\n",
    "            init=[data[0,1]*0.9,0.1,data[0,1]*0.1,0.1]\n",
    "            init1=[data[0,1]*0.9,0.1]\n",
    "            print '**** initial parameters ****'\n",
    "            print init[0], init[1], init[2], init[3]\n",
    "            print init1[0], init1[1]\n",
    "        else:\n",
    "            init = [a,b,c,d]\n",
    "            init1 = [a1, b1]\n",
    "            print '**** initial parameters ****'\n",
    "            print a, b, c, d\n",
    "            print a1, b1\n",
    "        \n",
    "        print '***  ***  ***  ***  ***  ***'\n",
    "        popt, pcov = curve_fit(func, data[:,0], data[:,1], init, data[:,2])\n",
    "        popt1, pcov1 = curve_fit(func1, data[:,0], data[:,1], init1, data[:,2])\n",
    "\n",
    "        csi = fun_csi(data, *popt)\n",
    "        csi_1 = fun_csi_1(data, *popt1)\n",
    "        datax = np.linspace(0, 70, 100)\n",
    "\n",
    "        if(num_k_max - num_k_min <3):\n",
    "            pylab.plot(datax,func(datax,*popt), '-', label = '$f(\\\\beta)=a_1exp(-b_1\\\\beta)+c_1exp(-d_1\\\\beta)$', color= 'black')\n",
    "            #pylab.plot(datax,func1(datax,*popt1),'-', label = '$f_1(\\\\beta)=a_1exp(-b_1\\\\beta)$')\n",
    "    \n",
    "        \n",
    "        print  \"a={0} b={1} c={2} d={3}\".format(*popt)\n",
    "        a = popt[0]\n",
    "        b = popt[1]\n",
    "        c = popt[2]\n",
    "        d = popt[3]\n",
    "        err_a = np.sqrt(pcov[0,0])\n",
    "        err_b = np.sqrt(pcov[1,1])\n",
    "        err_c = np.sqrt(pcov[2,2])\n",
    "        err_d = np.sqrt(pcov[3,3])\n",
    "        print err_a, err_b, err_c, err_d\n",
    "\n",
    "        print  \"a1={0} b1={1}\".format(*popt1)\n",
    "        a1 = popt1[0]\n",
    "        b1 = popt1[1]\n",
    "        err_a1 = np.sqrt(pcov1[0,0])\n",
    "        err_b1 = np.sqrt(pcov1[1,1])\n",
    "        print err_a1, err_b1\n",
    "\n",
    "        print \"csi={0} csi_1={1}\".format(csi, csi_1)\n",
    "\n",
    "        if(csi < csi_1):\n",
    "            I = (a/b+c/d)/pi\n",
    "            err_I = (1/pi)*np.sqrt((err_a/b)*(err_a/b) + a*a*err_b*err_b/(b*b*b*b) + (err_c/d)*(err_c/d) + c*c*err_d*err_d/(d*d*d*d))\n",
    "            print \"I = {0} error= {1}\".format(I, err_I)\n",
    "        else:\n",
    "            I = (a1/b1)/pi\n",
    "            err_I = (1/pi)*np.sqrt((err_a1/b1)*(err_a1/b1) + a1*a1*err_b1*err_b1/(b1*b1*b1*b1))\n",
    "            print \"I_1 = {0} error_1= {1}\".format(I, err_I)\n",
    "       \n",
    "        g.write(\"{0} {1} {2}\\n\".format(float(b_str[1])/np.sqrt(2), I, err_I))\n",
    "f.close()\n",
    "g.close()\n",
    "if(num_k_max - num_k_min <3):\n",
    "    pylab.legend(loc='upper right')\n",
    "#pylab.ylim([0,0.2])"
   ]
  },
  {
   "cell_type": "code",
   "execution_count": null,
   "metadata": {
    "collapsed": true
   },
   "outputs": [],
   "source": [
    "# Plotting the physical characteristic which was obtained from the coefficients of the fit above"
   ]
  },
  {
   "cell_type": "code",
   "execution_count": 21,
   "metadata": {
    "collapsed": true
   },
   "outputs": [],
   "source": [
    "pylab.rcParams['figure.figsize'] = (10.0, 6.5)"
   ]
  },
  {
   "cell_type": "code",
   "execution_count": 22,
   "metadata": {
    "collapsed": false
   },
   "outputs": [
    {
     "data": {
      "text/plain": [
       "<matplotlib.legend.Legend at 0x5087ad0>"
      ]
     },
     "execution_count": 22,
     "metadata": {},
     "output_type": "execute_result"
    },
    {
     "data": {
      "image/png": "[encoded data removed]",
      "text/plain": [
       "<matplotlib.figure.Figure at 0x5232850>"
      ]
     },
     "metadata": {},
     "output_type": "display_data"
    }
   ],
   "source": [
    "data = pylab.loadtxt('Data_F_1/csi_0.txt')\n",
    "data_ideal = pylab.loadtxt('Data_F_1/ideal_correction.txt')\n",
    "plt.errorbar(data[:,0], data[:,1], yerr= data[:,2], fmt='o', ms = 8, linewidth=2.0, label='NOT size-corrected')\n",
    "plt.errorbar(data[:,0], data[:,1]*data_ideal[:,3]/data_ideal[:,2], yerr= data[:,2], color='red', fmt=\"s\", ms = 8, linewidth=2.0, \n",
    "             label='size-corrected')\n",
    "plt.tick_params(labelsize=18)\n",
    "plt.xlabel('$k/k_F$', fontsize=18)\n",
    "plt.ylabel('-$\\chi_0$', fontsize=18)\n",
    "pylab.legend(loc='upper right')\n",
    "#pylab.plot( data[:,0], data[:,1],'o')\n",
    "#pylab.ylim([0,4.5])\n",
    "#pylab.title('$ n_{bl} = 1000 for \\\\beta=8, 11, 14, 20, 30;$ without rew.', fontsize=20)\n",
    "#plt.text(1, -0.6, r'$\\sum_{i=0}^\\infty x_i$', fontsize=20)"
   ]
  },
  {
   "cell_type": "code",
   "execution_count": 25,
   "metadata": {
    "collapsed": false
   },
   "outputs": [
    {
     "data": {
      "text/plain": [
       "<matplotlib.text.Text at 0x6235a90>"
      ]
     },
     "execution_count": 25,
     "metadata": {},
     "output_type": "execute_result"
    },
    {
     "data": {
      "image/png": "[encoded data removed]",
      "text/plain": [
       "<matplotlib.figure.Figure at 0x59bc510>"
      ]
     },
     "metadata": {},
     "output_type": "display_data"
    }
   ],
   "source": [
    "qF=np.sqrt(2)\n",
    "rs=5\n",
    "CC=rs*qF/(4*pi)\n",
    "data = pylab.loadtxt('Data_F_1/csi_0.txt')\n",
    "data_ideal = pylab.loadtxt('Data_F_1/ideal_correction.txt')\n",
    "plt.errorbar(data[:,0], 1+CC*(1-data_ideal[:,2]/data[:,1])*data[:,0]/data_ideal[:,2], yerr= data[:,2], color='red',\n",
    "fmt=\"s\", ms = 8, linewidth=2.0)\n",
    "plt.tick_params(labelsize=18)\n",
    "plt.xlabel('k/k_F', fontsize=18)\n",
    "plt.ylabel('G(k/k_F)', fontsize=18)\n",
    "\n"
   ]
  },
  {
   "cell_type": "code",
   "execution_count": null,
   "metadata": {
    "collapsed": true
   },
   "outputs": [],
   "source": []
  }
 ],
 "metadata": {
  "kernelspec": {
   "display_name": "Python 3",
   "language": "python",
   "name": "python3"
  },
  "language_info": {
   "codemirror_mode": {
    "name": "ipython",
    "version": 3
   },
   "file_extension": ".py",
   "mimetype": "text/x-python",
   "name": "python",
   "nbconvert_exporter": "python",
   "pygments_lexer": "ipython3",
   "version": "3.5.1"
  }
 },
 "nbformat": 4,
 "nbformat_minor": 0
}
